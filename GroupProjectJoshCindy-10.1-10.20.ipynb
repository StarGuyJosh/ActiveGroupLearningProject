{
 "cells": [
  {
   "cell_type": "code",
   "execution_count": null,
   "id": "8945b6dd",
   "metadata": {},
   "outputs": [],
   "source": [
    "#10/1/2021-10/20/2021 Image Extraction\n",
    "\n",
    "#specify geometry for the location of interest\n",
    "geojson_geometry = {\n",
    "  \"type\": \"Point\",\n",
    "      \"coordinates\": [ \n",
    "          -80.010969, 40.442068\n",
    "      ]\n",
    "}\n",
    "\n",
    "#set API filters\n",
    "geometry_filter = {\n",
    "  \"type\": \"GeometryFilter\",\n",
    "  \"field_name\": \"geometry\",\n",
    "  \"config\": geojson_geometry\n",
    "}\n",
    "date_range_filter = {\n",
    "  \"type\": \"DateRangeFilter\",\n",
    "  \"field_name\": \"acquired\",\n",
    "  \"config\": {\n",
    "    \"gte\": \"2021-10-01T00:00:00.000Z\",\n",
    "    \"lte\": \"2021-10-20T00:00:00.000Z\"\n",
    "  }\n",
    "}\n",
    "cloud_cover_filter = {\n",
    "  \"type\": \"RangeFilter\",\n",
    "  \"field_name\": \"cloud_cover\",\n",
    "  \"config\": {\n",
    "    \"lte\": 0.10  #10% or less of cloud coverage\n",
    "  }\n",
    "}\n",
    "combined_filter = {\n",
    "  \"type\": \"AndFilter\",\n",
    "  \"config\": [geometry_filter, date_range_filter, cloud_cover_filter]\n",
    "}\n",
    "\n",
    "\n",
    "# store API Key as an env variable\n",
    "PLANET_API_KEY = 'PLAKcdca1c45b7d4410ca6697cbb6bd0085a'\n",
    "\n",
    "#define PSScene to specify we want to query PSScene (Planet Scope Scene)\n",
    "item_type = \"PSScene\"\n",
    "\n",
    "#finalize search_request dict\n",
    "search_request = {\n",
    "  \"item_types\": [item_type], \n",
    "  \"filter\": combined_filter\n",
    "}\n",
    "\n",
    "#fire off a .post() request to the Planet server with API link and search_request dict\n",
    "search_result = requests.post(\n",
    "    'https://api.planet.com/data/v1/quick-search',\n",
    "    auth=HTTPBasicAuth(PLANET_API_KEY, ''),\n",
    "    json=search_request)\n",
    "\n",
    "#extract the metadata of possible images that fit our query as a json\n",
    "results = search_result.json()\n",
    "\n",
    "# extract image IDs only\n",
    "image_ids = [feature['id'] for feature in results['features']]\n",
    "image_ids"
   ]
  },
  {
   "cell_type": "code",
   "execution_count": null,
   "id": "b5d05ebd",
   "metadata": {},
   "outputs": [],
   "source": [
    "#respecify the result to include path for the image we want only\n",
    "result = requests.get(\n",
    "    'https://api.planet.com/data/v1/item-types/{}/items/{}/assets'.format(item_type, image_ids[0]),\n",
    "    auth=HTTPBasicAuth(PLANET_API_KEY, '')\n",
    "  )\n",
    "\n",
    "#obtain the asset types available for this particular satellite image to know which composite image to request\n",
    "print(result.json().keys())"
   ]
  },
  {
   "cell_type": "code",
   "execution_count": null,
   "id": "b31cf73c",
   "metadata": {},
   "outputs": [],
   "source": [
    "#check if it has been activated\n",
    "print(result.json()['ortho_analytic_4b']['status'])"
   ]
  },
  {
   "cell_type": "code",
   "execution_count": null,
   "id": "0fdf1e71",
   "metadata": {},
   "outputs": [],
   "source": [
    "# Parse out useful links for the activation link for the image asset\n",
    "links = result.json()[u\"ortho_analytic_4b\"][\"_links\"]\n",
    "self_link = links[\"_self\"]\n",
    "activation_link = links[\"activate\"]\n",
    "\n",
    "# Request activation of the 'analytic' asset:\n",
    "activate_result = requests.get(\n",
    "    activation_link,\n",
    "    auth=HTTPBasicAuth(PLANET_API_KEY, '')\n",
    "  )\n",
    "activation_status_result = requests.get(\n",
    "    self_link,\n",
    "    auth=HTTPBasicAuth(PLANET_API_KEY, '')\n",
    "  )\n",
    "    \n",
    "print(activation_status_result.json()[\"status\"])"
   ]
  },
  {
   "cell_type": "code",
   "execution_count": null,
   "id": "da8c23f7",
   "metadata": {},
   "outputs": [],
   "source": [
    "# get image download link\n",
    "download_link = activation_status_result.json()[\"location\"]\n",
    "print(download_link)"
   ]
  },
  {
   "cell_type": "code",
   "execution_count": null,
   "id": "2f538164",
   "metadata": {},
   "outputs": [],
   "source": [
    "#START of NDVI (code obtained from https://developers.planet.com/docs/planetschool/calculate-an-ndvi-in-python/)\n",
    "import rasterio\n",
    "import numpy\n",
    "\n",
    "image_file = \"XXXXXX.tif\"\n",
    "\n",
    "# Load red and NIR bands - note all PlanetScope 4-band images have band order BGRN\n",
    "with rasterio.open(image_file) as src:\n",
    "    band_red = src.read(3)\n",
    "\n",
    "with rasterio.open(image_file) as src:\n",
    "    band_nir = src.read(4)"
   ]
  },
  {
   "cell_type": "code",
   "execution_count": null,
   "id": "a41a5fc1",
   "metadata": {},
   "outputs": [],
   "source": [
    "#Normalize to Top of Atmosphere Reflectance (TOA Reflectance)\n",
    "from xml.dom import minidom\n",
    "\n",
    "xmldoc = minidom.parse(\"XXXXXXXX_metadata.xml\")\n",
    "nodes = xmldoc.getElementsByTagName(\"ps:bandSpecificMetadata\")\n",
    "\n",
    "# XML parser refers to bands by numbers 1-4\n",
    "coeffs = {}\n",
    "for node in nodes:\n",
    "    bn = node.getElementsByTagName(\"ps:bandNumber\")[0].firstChild.data\n",
    "    if bn in ['1', '2', '3', '4']:\n",
    "        i = int(bn)\n",
    "        value = node.getElementsByTagName(\"ps:reflectanceCoefficient\")[0].firstChild.data\n",
    "        coeffs[i] = float(value)\n",
    "        \n",
    "# Multiply by corresponding coefficients\n",
    "band_red = band_red * coeffs[3]\n",
    "band_nir = band_nir * coeffs[4]"
   ]
  },
  {
   "cell_type": "code",
   "execution_count": null,
   "id": "5753e7cf",
   "metadata": {},
   "outputs": [],
   "source": [
    "#NDVI calculation\n",
    "# Allow division by zero\n",
    "numpy.seterr(divide='ignore', invalid='ignore')\n",
    "\n",
    "# Calculate NDVI\n",
    "ndvi = (band_nir.astype(float) - band_red.astype(float)) / (band_nir + band_red)"
   ]
  },
  {
   "cell_type": "code",
   "execution_count": null,
   "id": "e569bbbc",
   "metadata": {},
   "outputs": [],
   "source": [
    "#save NDVI image\n",
    "# Set spatial characteristics of the output object to mirror the input\n",
    "kwargs = src.meta\n",
    "kwargs.update(\n",
    "    dtype=rasterio.float32,\n",
    "    count = 1)\n",
    "\n",
    "# Create the file\n",
    "with rasterio.open('ndvi_1001_1020.tif', 'w', **kwargs) as dst:\n",
    "        dst.write_band(1, ndvi.astype(rasterio.float32))"
   ]
  },
  {
   "cell_type": "code",
   "execution_count": null,
   "id": "9358d02b",
   "metadata": {},
   "outputs": [],
   "source": [
    "#apply color map\n",
    "import matplotlib.pyplot as plt\n",
    "plt.imsave(\"ndvi_1001_1020_cmap.png\", ndvi, cmap=plt.cm.summer)"
   ]
  },
  {
   "cell_type": "code",
   "execution_count": null,
   "id": "3f99e9d3",
   "metadata": {},
   "outputs": [],
   "source": [
    "#High Elevation Image Clipping\n",
    "import rasterio\n",
    "from matplotlib import pyplot as plt\n",
    "import numpy as np\n",
    "\n",
    "#assign filename\n",
    "image_file = \"ndvi_1001_1020.tif\"\n",
    "\n",
    "#define raster object\n",
    "high_image = rasterio.open(image_file)\n",
    "\n",
    "#scale so that we are able to see it\n",
    "def scale(band): \n",
    "    return band / 7000.0 \n",
    "\n",
    "#unpack multiband layers\n",
    "blue = scale(high_image.read(1))\n",
    "green = scale(high_image.read(2))\n",
    "red = scale(high_image.read(3))\n",
    "\n",
    "#stack multiband layers to create true color composite image\n",
    "high_image = np.dstack((red, green, blue))\n",
    "\n",
    "#use pyplot to see the image\n",
    "plt.imshow(high_image)"
   ]
  },
  {
   "cell_type": "code",
   "execution_count": null,
   "id": "8bd51131",
   "metadata": {},
   "outputs": [],
   "source": [
    "#specify our own geojson file to clip image\n",
    "#gets bounds for the current image\n",
    "xmin, ymin, xmax, ymax = high_image.bounds\n",
    "\n",
    "print(\"Initial values are {}, {}, {} and {}\".format(\n",
    "    (xmin), \n",
    "    (ymin), \n",
    "    (xmax), \n",
    "    (ymax))\n",
    ")\n",
    "\n",
    "#respecify the maximum values\n",
    "xmin = -80.02986843380768\n",
    "ymin = 40.43001221948174\n",
    "xmax = -79.9966704009477\n",
    "ymax = 40.450320890054115\n",
    "\n",
    "print(\"Final values are {}, {}, {} and {}\".format(\n",
    "    (xmin), \n",
    "    (ymin), \n",
    "    (xmax), \n",
    "    (ymax))\n",
    ")\n",
    "\n",
    "#define geojson as square with the reduced coordinates \n",
    "my_geojson = [{\n",
    "\t\"type\": \"Polygon\", \n",
    "\t\"coordinates\": [ \n",
    "\t  [\n",
    "\t\t[xmin, ymin],\n",
    "\t\t[xmax, ymin],\n",
    "\t\t[xmax, ymax],\n",
    "\t\t[xmin, ymax],\n",
    "\t\t[xmin, ymin]\n",
    "\t  ],\n",
    "\t]\n",
    "  }]"
   ]
  },
  {
   "cell_type": "code",
   "execution_count": null,
   "id": "ccacfb1e",
   "metadata": {},
   "outputs": [],
   "source": [
    "#clip image using geojson & rasterio mask function\n",
    "from rasterio.mask import mask\n",
    "with rasterio.open(image_file) as img:\n",
    "    clipped, transform = mask(img, my_geojson, crop=True)\n",
    "meta = my_image.meta.copy()\n",
    "meta.update(\n",
    "    {\n",
    "    \n",
    "        \"transform\": transform,\n",
    "        \"height\":clipped.shape[1],\n",
    "        \"width\":clipped.shape[2],\n",
    "    }\n",
    ")\n",
    "with rasterio.open('high_1001_1020.tif', 'w', **meta) as my_writer_object:\n",
    "    my_writer_object.write(clipped)\n",
    "    \n",
    "print('Writing complete')"
   ]
  },
  {
   "cell_type": "code",
   "execution_count": null,
   "id": "95c77ab2",
   "metadata": {},
   "outputs": [],
   "source": [
    "#Low Elevation Image Clipping\n",
    "import rasterio\n",
    "from matplotlib import pyplot as plt\n",
    "import numpy as np\n",
    "\n",
    "#assign filename\n",
    "image_file = \"ndvi_1001_1020.tif\"\n",
    "\n",
    "#define raster object\n",
    "low_image = rasterio.open(image_file)\n",
    "\n",
    "#scale so that we are able to see it\n",
    "def scale(band): \n",
    "    return band / 7000.0 \n",
    "\n",
    "#unpack multiband layers\n",
    "blue = scale(low_image.read(1))\n",
    "green = scale(low_image.read(2))\n",
    "red = scale(low_image.read(3))\n",
    "\n",
    "#stack multiband layers to create true color composite image\n",
    "low_image = np.dstack((red, green, blue))\n",
    "\n",
    "#use pyplot to see the image\n",
    "plt.imshow(low_image)"
   ]
  },
  {
   "cell_type": "code",
   "execution_count": null,
   "id": "f8ae2440",
   "metadata": {},
   "outputs": [],
   "source": [
    "#specify our own geojson file to clip image\n",
    "#gets bounds for the current image\n",
    "xmin, ymin, xmax, ymax = low_image.bounds\n",
    "\n",
    "print(\"Initial values are {}, {}, {} and {}\".format(\n",
    "    (xmin), \n",
    "    (ymin), \n",
    "    (xmax), \n",
    "    (ymax))\n",
    ")\n",
    "\n",
    "#respecify the maximum values\n",
    "xmin = -80.02986843380768\n",
    "ymin = 40.43001221948174\n",
    "xmax = -79.9966704009477\n",
    "ymax = 40.450320890054115\n",
    "\n",
    "print(\"Final values are {}, {}, {} and {}\".format(\n",
    "    (xmin), \n",
    "    (ymin), \n",
    "    (xmax), \n",
    "    (ymax))\n",
    ")\n",
    "\n",
    "#define geojson as square with the reduced coordinates \n",
    "my_geojson = [{\n",
    "\t\"type\": \"Polygon\", \n",
    "\t\"coordinates\": [ \n",
    "\t  [\n",
    "\t\t[xmin, ymin],\n",
    "\t\t[xmax, ymin],\n",
    "\t\t[xmax, ymax],\n",
    "\t\t[xmin, ymax],\n",
    "\t\t[xmin, ymin]\n",
    "\t  ],\n",
    "\t]\n",
    "  }]"
   ]
  },
  {
   "cell_type": "code",
   "execution_count": null,
   "id": "baf9de6d",
   "metadata": {},
   "outputs": [],
   "source": [
    "#clip image using geojson & rasterio mask function\n",
    "from rasterio.mask import mask\n",
    "with rasterio.open(image_file) as img:\n",
    "    clipped, transform = mask(img, my_geojson, crop=True)\n",
    "meta = my_image.meta.copy()\n",
    "meta.update(\n",
    "    {\n",
    "    \n",
    "        \"transform\": transform,\n",
    "        \"height\":clipped.shape[1],\n",
    "        \"width\":clipped.shape[2],\n",
    "    }\n",
    ")\n",
    "with rasterio.open('low_1001_1020.tif', 'w', **meta) as my_writer_object:\n",
    "    my_writer_object.write(clipped)\n",
    "    \n",
    "print('Writing complete')"
   ]
  },
  {
   "cell_type": "code",
   "execution_count": 1,
   "id": "15c43fa4",
   "metadata": {},
   "outputs": [
    {
     "data": {
      "text/plain": [
       "<open DatasetReader name='ndvi.tif' mode='r'>"
      ]
     },
     "execution_count": 1,
     "metadata": {},
     "output_type": "execute_result"
    }
   ],
   "source": [
    "#PIXEL HISTOGRAMS\n",
    "%matplotlib inline\n",
    "import rasterio\n",
    "import numpy\n",
    "from matplotlib import pyplot as plt\n",
    "\n",
    "# Our single 4 band (blue, green, red, NIR) PlanetScope image.\n",
    "image_file = \"ndvi.tif\"\n",
    "\n",
    "# Let's get our rasterio object:\n",
    "my_image = rasterio.open(image_file)\n",
    "my_image"
   ]
  },
  {
   "cell_type": "code",
   "execution_count": 2,
   "id": "1a6ac788",
   "metadata": {},
   "outputs": [
    {
     "data": {
      "text/plain": [
       "array([[[        nan, -0.02066028,  0.02173913, ..., -0.06078961,\n",
       "         -0.00116414,         nan],\n",
       "        [        nan,  0.04517413,  0.04456666, ..., -0.02077151,\n",
       "         -0.03449267,         nan],\n",
       "        [        nan,  0.26177835,  0.1276021 , ...,  0.13767433,\n",
       "          0.06828412,         nan],\n",
       "        ...,\n",
       "        [        nan,  0.62987095,  0.64045244, ..., -0.0740183 ,\n",
       "         -0.0760923 ,         nan],\n",
       "        [        nan,  0.6327091 ,  0.6356098 , ..., -0.02734245,\n",
       "         -0.08476339,         nan],\n",
       "        [        nan,         nan,         nan, ...,         nan,\n",
       "                 nan,         nan]]], dtype=float32)"
      ]
     },
     "execution_count": 2,
     "metadata": {},
     "output_type": "execute_result"
    }
   ],
   "source": [
    "# NDVI image only has 1 band\n",
    "ndvi = my_image.read()\n",
    "ndvi"
   ]
  },
  {
   "cell_type": "code",
   "execution_count": 3,
   "id": "0e8b7f36",
   "metadata": {},
   "outputs": [
    {
     "data": {
      "text/plain": [
       "Text(0.5, 1.0, 'Histogram of NDVI Values')"
      ]
     },
     "execution_count": 3,
     "metadata": {},
     "output_type": "execute_result"
    },
    {
     "data": {
      "image/png": "[encoded data removed]",
      "text/plain": [
       "<Figure size 640x480 with 1 Axes>"
      ]
     },
     "metadata": {},
     "output_type": "display_data"
    }
   ],
   "source": [
    "# Let's define a new figure\n",
    "# The (1, 1) means we want one colum and one row, for a single plot (as opposed to a panel plot).\n",
    "fig, ax1 = plt.subplots(1,1) \n",
    "\n",
    "# Let's get our data\n",
    "ndvi_data = ndvi[numpy.not_equal(ndvi, my_image.nodata)]\n",
    "\n",
    "# Specify the .hist() function to create the hist\n",
    "ax1.hist(ndvi_data, color='darkred')\n",
    "\n",
    "# We can state the title for this plot too\n",
    "ax1.set_title('Histogram of NDVI Values')\n"
   ]
  }
 ],
 "metadata": {
  "kernelspec": {
   "display_name": "Python 3 (ipykernel)",
   "language": "python",
   "name": "python3"
  },
  "language_info": {
   "codemirror_mode": {
    "name": "ipython",
    "version": 3
   },
   "file_extension": ".py",
   "mimetype": "text/x-python",
   "name": "python",
   "nbconvert_exporter": "python",
   "pygments_lexer": "ipython3",
   "version": "3.9.13"
  }
 },
 "nbformat": 4,
 "nbformat_minor": 5
}
